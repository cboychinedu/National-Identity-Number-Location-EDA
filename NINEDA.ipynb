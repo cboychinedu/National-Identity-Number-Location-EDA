{
 "cells": [
  {
   "cell_type": "code",
   "execution_count": 1,
   "metadata": {},
   "outputs": [],
   "source": [
    "#!/usr/bin/env python3 "
   ]
  },
  {
   "cell_type": "code",
   "execution_count": 10,
   "metadata": {},
   "outputs": [],
   "source": [
    "# !pip install pandas --user \n",
    "# !pip install geopy \n",
    "# !pip install folium \n",
    "# !pip install geopandas\n",
    "# !pip install xlrd==1.1.0"
   ]
  },
  {
   "cell_type": "markdown",
   "metadata": {},
   "source": [
    "<h3> Getting The Geolocation Of NIN Locations In Nigeria </h3> "
   ]
  },
  {
   "cell_type": "code",
   "execution_count": 1,
   "metadata": {},
   "outputs": [],
   "source": [
    "# Importing the necessary modules \n",
    "import folium\n",
    "import numpy as np \n",
    "import pandas as pd \n",
    "import geopandas as gpd \n",
    "from geopy.geocoders import Nominatim \n",
    "from folium.plugins import HeatMap, MarkerCluster "
   ]
  },
  {
   "cell_type": "code",
   "execution_count": 2,
   "metadata": {},
   "outputs": [],
   "source": [
    "# Creating the geo-locator object \n",
    "geolocator = Nominatim(user_agent=\"nin-eda\") "
   ]
  },
  {
   "cell_type": "code",
   "execution_count": 3,
   "metadata": {},
   "outputs": [],
   "source": [
    "# The path to the dataset \n",
    "dataPath = \"cleanData.xls\"; \n",
    "\n",
    "# Loading the data into memory \n",
    "df = pd.read_excel(dataPath); "
   ]
  },
  {
   "cell_type": "code",
   "execution_count": 4,
   "metadata": {},
   "outputs": [],
   "source": [
    "# Removing the unnames column \n",
    "df.pop(df.columns[0]); \n",
    "\n",
    "# Creating a list to hold the values for lat, long and it's co-ordinates \n",
    "latitude = list()\n",
    "longitude = list()\n",
    "CoOrdinates = list() \n",
    "location = list() \n",
    "\n",
    "# Removing the first row \n",
    "df = df.drop(df.index[[0, 0]])\n",
    " \n",
    "# looping through the CoOrdinates column and clean the data\n",
    "for ordinates in df[\"CoOrdinates\"].values:\n",
    "    latValue = str(ordinates.replace(' ', '').replace(')', '').replace('(', '').split(\",\")[0][:5])\n",
    "    longValue = str(ordinates.replace(' ', '').replace(')', '').replace('(', '').split(\",\")[1][:5]) \n",
    "    \n",
    "    # Append the clean data to the latValue and longValue list \n",
    "    latitude.append(str(latValue))\n",
    "    longitude.append(str(longValue)) \n",
    "    \n",
    "    # Concat the values for latValue and longValue \n",
    "    ordinatesC = latValue + \",\" + longValue;\n",
    "    CoOrdinates.append(ordinatesC)\n",
    "    \n",
    "# \n",
    "for ActualLocation in df[\"Location\"].values:\n",
    "    ActualLocation = str(ActualLocation.replace(',', '')) \n",
    "    \n",
    "    # Append \n",
    "    location.append(ActualLocation) \n",
    "    \n",
    "# Creating a new column with the respective names \n",
    "df[\"latitude\"] = pd.DataFrame(latitude)\n",
    "df[\"longitude\"] = pd.DataFrame(longitude) \n",
    "df[\"CoOrdinates\"] = pd.DataFrame(CoOrdinates)\n",
    "df[\"Location\"] = pd.DataFrame(location) "
   ]
  },
  {
   "cell_type": "code",
   "execution_count": 5,
   "metadata": {},
   "outputs": [],
   "source": [
    "# Trying to get the co-ordinates again for the correct values \n",
    "location_array = df[\"Location\"].values\n",
    "latarr = []\n",
    "longarr = []\n",
    "\n",
    "\n",
    "# \n",
    "for locations in location_array: \n",
    "    co_ordinates = geolocator.geocode(locations)\n",
    "    lat = co_ordinates.latitude; \n",
    "    long = co_ordinates.longitude; \n",
    "    \n",
    "    # \n",
    "    latarr.append(lat) \n",
    "    longarr.append(long) "
   ]
  },
  {
   "cell_type": "code",
   "execution_count": 8,
   "metadata": {},
   "outputs": [],
   "source": [
    "df[\"latitude\"] = pd.DataFrame(latarr)\n",
    "df[\"longitude\"] = pd.DataFrame(longarr) "
   ]
  },
  {
   "cell_type": "code",
   "execution_count": 9,
   "metadata": {},
   "outputs": [
    {
     "data": {
      "text/plain": [
       "Head Office    False\n",
       "Location        True\n",
       "CoOrdinates     True\n",
       "latitude        True\n",
       "longitude       True\n",
       "dtype: bool"
      ]
     },
     "execution_count": 9,
     "metadata": {},
     "output_type": "execute_result"
    }
   ],
   "source": [
    "# Checking for null values, and if any drop the row with NaN values \n",
    "df.isnull().any()"
   ]
  },
  {
   "cell_type": "code",
   "execution_count": 10,
   "metadata": {},
   "outputs": [],
   "source": [
    "df = df.dropna() "
   ]
  },
  {
   "cell_type": "code",
   "execution_count": 11,
   "metadata": {},
   "outputs": [],
   "source": [
    "# Drop duplicates values found in the latitude and longitude columns \n",
    "df = df.drop_duplicates(subset=['latitude', 'longitude']) "
   ]
  },
  {
   "cell_type": "code",
   "execution_count": 12,
   "metadata": {},
   "outputs": [
    {
     "data": {
      "text/html": [
       "<div>\n",
       "<style scoped>\n",
       "    .dataframe tbody tr th:only-of-type {\n",
       "        vertical-align: middle;\n",
       "    }\n",
       "\n",
       "    .dataframe tbody tr th {\n",
       "        vertical-align: top;\n",
       "    }\n",
       "\n",
       "    .dataframe thead th {\n",
       "        text-align: right;\n",
       "    }\n",
       "</style>\n",
       "<table border=\"1\" class=\"dataframe\">\n",
       "  <thead>\n",
       "    <tr style=\"text-align: right;\">\n",
       "      <th></th>\n",
       "      <th>Head Office</th>\n",
       "      <th>Location</th>\n",
       "      <th>CoOrdinates</th>\n",
       "      <th>latitude</th>\n",
       "      <th>longitude</th>\n",
       "    </tr>\n",
       "  </thead>\n",
       "  <tbody>\n",
       "    <tr>\n",
       "      <th>1</th>\n",
       "      <td>Allen Avenue 1</td>\n",
       "      <td>Lagos Lagos Island 100242 Nigeria</td>\n",
       "      <td>6.455,3.394</td>\n",
       "      <td>9.064331</td>\n",
       "      <td>7.489297</td>\n",
       "    </tr>\n",
       "    <tr>\n",
       "      <th>3</th>\n",
       "      <td>Maitama 1</td>\n",
       "      <td>Abuja Municipal Area Council Federal Capital T...</td>\n",
       "      <td>9.064,7.489</td>\n",
       "      <td>10.462140</td>\n",
       "      <td>7.223942</td>\n",
       "    </tr>\n",
       "    <tr>\n",
       "      <th>6</th>\n",
       "      <td>Zuba</td>\n",
       "      <td>Abuja Municipal Area Council Federal Capital T...</td>\n",
       "      <td>9.064,7.489</td>\n",
       "      <td>4.841603</td>\n",
       "      <td>6.860409</td>\n",
       "    </tr>\n",
       "    <tr>\n",
       "      <th>7</th>\n",
       "      <td>Bwari Main</td>\n",
       "      <td>Rivers Nigeria</td>\n",
       "      <td>4.841,6.860</td>\n",
       "      <td>8.215125</td>\n",
       "      <td>3.564290</td>\n",
       "    </tr>\n",
       "    <tr>\n",
       "      <th>8</th>\n",
       "      <td>Port Harcourt</td>\n",
       "      <td>Oyo Nigeria</td>\n",
       "      <td>8.215,3.564</td>\n",
       "      <td>6.455057</td>\n",
       "      <td>3.394179</td>\n",
       "    </tr>\n",
       "  </tbody>\n",
       "</table>\n",
       "</div>"
      ],
      "text/plain": [
       "      Head Office                                           Location  \\\n",
       "1  Allen Avenue 1                  Lagos Lagos Island 100242 Nigeria   \n",
       "3       Maitama 1  Abuja Municipal Area Council Federal Capital T...   \n",
       "6            Zuba  Abuja Municipal Area Council Federal Capital T...   \n",
       "7      Bwari Main                                     Rivers Nigeria   \n",
       "8   Port Harcourt                                        Oyo Nigeria   \n",
       "\n",
       "   CoOrdinates   latitude  longitude  \n",
       "1  6.455,3.394   9.064331   7.489297  \n",
       "3  9.064,7.489  10.462140   7.223942  \n",
       "6  9.064,7.489   4.841603   6.860409  \n",
       "7  4.841,6.860   8.215125   3.564290  \n",
       "8  8.215,3.564   6.455057   3.394179  "
      ]
     },
     "execution_count": 12,
     "metadata": {},
     "output_type": "execute_result"
    }
   ],
   "source": [
    "# Viewing the head of the dataframe\n",
    "df.head() "
   ]
  },
  {
   "cell_type": "code",
   "execution_count": 25,
   "metadata": {},
   "outputs": [
    {
     "data": {
      "text/html": [
       "<div>\n",
       "<style scoped>\n",
       "    .dataframe tbody tr th:only-of-type {\n",
       "        vertical-align: middle;\n",
       "    }\n",
       "\n",
       "    .dataframe tbody tr th {\n",
       "        vertical-align: top;\n",
       "    }\n",
       "\n",
       "    .dataframe thead th {\n",
       "        text-align: right;\n",
       "    }\n",
       "</style>\n",
       "<table border=\"1\" class=\"dataframe\">\n",
       "  <thead>\n",
       "    <tr style=\"text-align: right;\">\n",
       "      <th></th>\n",
       "      <th>latitude</th>\n",
       "      <th>longitude</th>\n",
       "    </tr>\n",
       "  </thead>\n",
       "  <tbody>\n",
       "    <tr>\n",
       "      <th>count</th>\n",
       "      <td>30.000000</td>\n",
       "      <td>30.000000</td>\n",
       "    </tr>\n",
       "    <tr>\n",
       "      <th>mean</th>\n",
       "      <td>11.707235</td>\n",
       "      <td>8.703276</td>\n",
       "    </tr>\n",
       "    <tr>\n",
       "      <th>std</th>\n",
       "      <td>12.818334</td>\n",
       "      <td>13.854771</td>\n",
       "    </tr>\n",
       "    <tr>\n",
       "      <th>min</th>\n",
       "      <td>4.762979</td>\n",
       "      <td>-0.509389</td>\n",
       "    </tr>\n",
       "    <tr>\n",
       "      <th>25%</th>\n",
       "      <td>6.277500</td>\n",
       "      <td>5.098246</td>\n",
       "    </tr>\n",
       "    <tr>\n",
       "      <th>50%</th>\n",
       "      <td>7.701207</td>\n",
       "      <td>6.767675</td>\n",
       "    </tr>\n",
       "    <tr>\n",
       "      <th>75%</th>\n",
       "      <td>9.480115</td>\n",
       "      <td>7.509584</td>\n",
       "    </tr>\n",
       "    <tr>\n",
       "      <th>max</th>\n",
       "      <td>51.624583</td>\n",
       "      <td>80.676000</td>\n",
       "    </tr>\n",
       "  </tbody>\n",
       "</table>\n",
       "</div>"
      ],
      "text/plain": [
       "        latitude  longitude\n",
       "count  30.000000  30.000000\n",
       "mean   11.707235   8.703276\n",
       "std    12.818334  13.854771\n",
       "min     4.762979  -0.509389\n",
       "25%     6.277500   5.098246\n",
       "50%     7.701207   6.767675\n",
       "75%     9.480115   7.509584\n",
       "max    51.624583  80.676000"
      ]
     },
     "execution_count": 25,
     "metadata": {},
     "output_type": "execute_result"
    }
   ],
   "source": [
    "# Describing the dataframe after cleaning \n",
    "df.describe() "
   ]
  },
  {
   "cell_type": "code",
   "execution_count": 14,
   "metadata": {},
   "outputs": [
    {
     "data": {
      "text/plain": [
       "count    30.000000\n",
       "mean     11.707235\n",
       "std      12.818334\n",
       "min       4.762979\n",
       "25%       6.277500\n",
       "50%       7.701207\n",
       "75%       9.480115\n",
       "max      51.624583\n",
       "Name: latitude, dtype: float64"
      ]
     },
     "execution_count": 14,
     "metadata": {},
     "output_type": "execute_result"
    }
   ],
   "source": [
    "# Showing a brief description of the latitude column \n",
    "df[\"latitude\"].describe() "
   ]
  },
  {
   "cell_type": "code",
   "execution_count": 15,
   "metadata": {},
   "outputs": [
    {
     "data": {
      "text/plain": [
       "count    30.000000\n",
       "mean      8.703276\n",
       "std      13.854771\n",
       "min      -0.509389\n",
       "25%       5.098246\n",
       "50%       6.767675\n",
       "75%       7.509584\n",
       "max      80.676000\n",
       "Name: longitude, dtype: float64"
      ]
     },
     "execution_count": 15,
     "metadata": {},
     "output_type": "execute_result"
    }
   ],
   "source": [
    "# Diplaying a brief description of the longitude column \n",
    "df[\"longitude\"].describe() "
   ]
  },
  {
   "cell_type": "code",
   "execution_count": 13,
   "metadata": {},
   "outputs": [
    {
     "name": "stdout",
     "output_type": "stream",
     "text": [
      "Data shape: (30, 5)\n",
      "Index(['Head Office', 'Location', 'CoOrdinates', 'latitude', 'longitude'], dtype='object')\n"
     ]
    }
   ],
   "source": [
    "# Getting the columns for the loaded dataframe \n",
    "columns = df.columns; \n",
    "\n",
    "# Displaying the shape of the loaded dataframe \n",
    "print(f\"Data shape: {df.shape}\")\n",
    "print(columns)"
   ]
  },
  {
   "cell_type": "code",
   "execution_count": 14,
   "metadata": {},
   "outputs": [
    {
     "data": {
      "text/plain": [
       "count                 30\n",
       "unique                30\n",
       "top       Allen Avenue 1\n",
       "freq                   1\n",
       "Name: Head Office, dtype: object"
      ]
     },
     "execution_count": 14,
     "metadata": {},
     "output_type": "execute_result"
    }
   ],
   "source": [
    "# Displaying the description of the head office \n",
    "df[\"Head Office\"].describe() "
   ]
  },
  {
   "cell_type": "code",
   "execution_count": 18,
   "metadata": {},
   "outputs": [
    {
     "data": {
      "text/plain": [
       "count                                    30\n",
       "unique                                   22\n",
       "top       Lagos,Lagos Island,100242,Nigeria\n",
       "freq                                      4\n",
       "Name: Location, dtype: object"
      ]
     },
     "execution_count": 18,
     "metadata": {},
     "output_type": "execute_result"
    }
   ],
   "source": [
    "# Brief description for the location address \n",
    "df[\"Location\"].describe() "
   ]
  },
  {
   "cell_type": "markdown",
   "metadata": {},
   "source": [
    "<h3> Geospital Analysis </h3> "
   ]
  },
  {
   "cell_type": "code",
   "execution_count": 19,
   "metadata": {},
   "outputs": [
    {
     "data": {
      "text/plain": [
       "Point(9.6000359, 7.9999721, 0.0)"
      ]
     },
     "execution_count": 19,
     "metadata": {},
     "output_type": "execute_result"
    }
   ],
   "source": [
    "# Getting the country location \n",
    "location = \"Nigeria\" \n",
    "\n",
    "# Extract the co-ordinates for nigeria \n",
    "co_ordinates = geolocator.geocode(location) \n",
    "\n",
    "# Getting the longitude and latitude for Nigeria \n",
    "lat = co_ordinates.latitude; \n",
    "long = co_ordinates.longitude; \n",
    "\n",
    "# Displaying the co-ordinates \n",
    "co_ordinates.point"
   ]
  },
  {
   "cell_type": "code",
   "execution_count": 20,
   "metadata": {},
   "outputs": [],
   "source": [
    "# mainMap = folium.Map([9.0643, 7.4892974], titles='Stamen Toner', zoom_start=5) \n",
    "# folium.Marker([lat, long], \n",
    "#                         radius=6,    \n",
    "#                         ).add_to(mainMap)\n",
    "\n",
    "# mainMap"
   ]
  },
  {
   "cell_type": "code",
   "execution_count": 15,
   "metadata": {},
   "outputs": [
    {
     "data": {
      "text/html": [
       "<div style=\"width:100%;\"><div style=\"position:relative;width:100%;height:0;padding-bottom:60%;\"><span style=\"color:#565656\">Make this Notebook Trusted to load map: File -> Trust Notebook</span><iframe src=\"about:blank\" style=\"position:absolute;width:100%;height:100%;left:0;top:0;border:none !important;\" data-html=%3C%21DOCTYPE%20html%3E%0A%3Chead%3E%20%20%20%20%0A%20%20%20%20%3Cmeta%20http-equiv%3D%22content-type%22%20content%3D%22text/html%3B%20charset%3DUTF-8%22%20/%3E%0A%20%20%20%20%0A%20%20%20%20%20%20%20%20%3Cscript%3E%0A%20%20%20%20%20%20%20%20%20%20%20%20L_NO_TOUCH%20%3D%20false%3B%0A%20%20%20%20%20%20%20%20%20%20%20%20L_DISABLE_3D%20%3D%20false%3B%0A%20%20%20%20%20%20%20%20%3C/script%3E%0A%20%20%20%20%0A%20%20%20%20%3Cstyle%3Ehtml%2C%20body%20%7Bwidth%3A%20100%25%3Bheight%3A%20100%25%3Bmargin%3A%200%3Bpadding%3A%200%3B%7D%3C/style%3E%0A%20%20%20%20%3Cstyle%3E%23map%20%7Bposition%3Aabsolute%3Btop%3A0%3Bbottom%3A0%3Bright%3A0%3Bleft%3A0%3B%7D%3C/style%3E%0A%20%20%20%20%3Cscript%20src%3D%22https%3A//cdn.jsdelivr.net/npm/leaflet%401.6.0/dist/leaflet.js%22%3E%3C/script%3E%0A%20%20%20%20%3Cscript%20src%3D%22https%3A//code.jquery.com/jquery-1.12.4.min.js%22%3E%3C/script%3E%0A%20%20%20%20%3Cscript%20src%3D%22https%3A//maxcdn.bootstrapcdn.com/bootstrap/3.2.0/js/bootstrap.min.js%22%3E%3C/script%3E%0A%20%20%20%20%3Cscript%20src%3D%22https%3A//cdnjs.cloudflare.com/ajax/libs/Leaflet.awesome-markers/2.0.2/leaflet.awesome-markers.js%22%3E%3C/script%3E%0A%20%20%20%20%3Clink%20rel%3D%22stylesheet%22%20href%3D%22https%3A//cdn.jsdelivr.net/npm/leaflet%401.6.0/dist/leaflet.css%22/%3E%0A%20%20%20%20%3Clink%20rel%3D%22stylesheet%22%20href%3D%22https%3A//maxcdn.bootstrapcdn.com/bootstrap/3.2.0/css/bootstrap.min.css%22/%3E%0A%20%20%20%20%3Clink%20rel%3D%22stylesheet%22%20href%3D%22https%3A//maxcdn.bootstrapcdn.com/bootstrap/3.2.0/css/bootstrap-theme.min.css%22/%3E%0A%20%20%20%20%3Clink%20rel%3D%22stylesheet%22%20href%3D%22https%3A//maxcdn.bootstrapcdn.com/font-awesome/4.6.3/css/font-awesome.min.css%22/%3E%0A%20%20%20%20%3Clink%20rel%3D%22stylesheet%22%20href%3D%22https%3A//cdnjs.cloudflare.com/ajax/libs/Leaflet.awesome-markers/2.0.2/leaflet.awesome-markers.css%22/%3E%0A%20%20%20%20%3Clink%20rel%3D%22stylesheet%22%20href%3D%22https%3A//cdn.jsdelivr.net/gh/python-visualization/folium/folium/templates/leaflet.awesome.rotate.min.css%22/%3E%0A%20%20%20%20%0A%20%20%20%20%20%20%20%20%20%20%20%20%3Cmeta%20name%3D%22viewport%22%20content%3D%22width%3Ddevice-width%2C%0A%20%20%20%20%20%20%20%20%20%20%20%20%20%20%20%20initial-scale%3D1.0%2C%20maximum-scale%3D1.0%2C%20user-scalable%3Dno%22%20/%3E%0A%20%20%20%20%20%20%20%20%20%20%20%20%3Cstyle%3E%0A%20%20%20%20%20%20%20%20%20%20%20%20%20%20%20%20%23map_c13657eb2fa148f2aac85cc16a883752%20%7B%0A%20%20%20%20%20%20%20%20%20%20%20%20%20%20%20%20%20%20%20%20position%3A%20relative%3B%0A%20%20%20%20%20%20%20%20%20%20%20%20%20%20%20%20%20%20%20%20width%3A%20100.0%25%3B%0A%20%20%20%20%20%20%20%20%20%20%20%20%20%20%20%20%20%20%20%20height%3A%20100.0%25%3B%0A%20%20%20%20%20%20%20%20%20%20%20%20%20%20%20%20%20%20%20%20left%3A%200.0%25%3B%0A%20%20%20%20%20%20%20%20%20%20%20%20%20%20%20%20%20%20%20%20top%3A%200.0%25%3B%0A%20%20%20%20%20%20%20%20%20%20%20%20%20%20%20%20%7D%0A%20%20%20%20%20%20%20%20%20%20%20%20%3C/style%3E%0A%20%20%20%20%20%20%20%20%0A%3C/head%3E%0A%3Cbody%3E%20%20%20%20%0A%20%20%20%20%0A%20%20%20%20%20%20%20%20%20%20%20%20%3Cdiv%20class%3D%22folium-map%22%20id%3D%22map_c13657eb2fa148f2aac85cc16a883752%22%20%3E%3C/div%3E%0A%20%20%20%20%20%20%20%20%0A%3C/body%3E%0A%3Cscript%3E%20%20%20%20%0A%20%20%20%20%0A%20%20%20%20%20%20%20%20%20%20%20%20var%20map_c13657eb2fa148f2aac85cc16a883752%20%3D%20L.map%28%0A%20%20%20%20%20%20%20%20%20%20%20%20%20%20%20%20%22map_c13657eb2fa148f2aac85cc16a883752%22%2C%0A%20%20%20%20%20%20%20%20%20%20%20%20%20%20%20%20%7B%0A%20%20%20%20%20%20%20%20%20%20%20%20%20%20%20%20%20%20%20%20center%3A%20%5B46.3144754%2C%2011.0480288%5D%2C%0A%20%20%20%20%20%20%20%20%20%20%20%20%20%20%20%20%20%20%20%20crs%3A%20L.CRS.EPSG3857%2C%0A%20%20%20%20%20%20%20%20%20%20%20%20%20%20%20%20%20%20%20%20zoom%3A%205%2C%0A%20%20%20%20%20%20%20%20%20%20%20%20%20%20%20%20%20%20%20%20zoomControl%3A%20true%2C%0A%20%20%20%20%20%20%20%20%20%20%20%20%20%20%20%20%20%20%20%20preferCanvas%3A%20false%2C%0A%20%20%20%20%20%20%20%20%20%20%20%20%20%20%20%20%20%20%20%20titles%3A%20%22Stamen%20Toner%22%2C%0A%20%20%20%20%20%20%20%20%20%20%20%20%20%20%20%20%7D%0A%20%20%20%20%20%20%20%20%20%20%20%20%29%3B%0A%0A%20%20%20%20%20%20%20%20%20%20%20%20%0A%0A%20%20%20%20%20%20%20%20%0A%20%20%20%20%0A%20%20%20%20%20%20%20%20%20%20%20%20var%20tile_layer_e3fa33b31afd48438a2184f06bc764d4%20%3D%20L.tileLayer%28%0A%20%20%20%20%20%20%20%20%20%20%20%20%20%20%20%20%22https%3A//%7Bs%7D.tile.openstreetmap.org/%7Bz%7D/%7Bx%7D/%7By%7D.png%22%2C%0A%20%20%20%20%20%20%20%20%20%20%20%20%20%20%20%20%7B%22attribution%22%3A%20%22Data%20by%20%5Cu0026copy%3B%20%5Cu003ca%20href%3D%5C%22http%3A//openstreetmap.org%5C%22%5Cu003eOpenStreetMap%5Cu003c/a%5Cu003e%2C%20under%20%5Cu003ca%20href%3D%5C%22http%3A//www.openstreetmap.org/copyright%5C%22%5Cu003eODbL%5Cu003c/a%5Cu003e.%22%2C%20%22detectRetina%22%3A%20false%2C%20%22maxNativeZoom%22%3A%2018%2C%20%22maxZoom%22%3A%2018%2C%20%22minZoom%22%3A%200%2C%20%22noWrap%22%3A%20false%2C%20%22opacity%22%3A%201%2C%20%22subdomains%22%3A%20%22abc%22%2C%20%22tms%22%3A%20false%7D%0A%20%20%20%20%20%20%20%20%20%20%20%20%29.addTo%28map_c13657eb2fa148f2aac85cc16a883752%29%3B%0A%20%20%20%20%20%20%20%20%0A%20%20%20%20%0A%20%20%20%20%20%20%20%20%20%20%20%20var%20marker_243e87e83e5540b69d2bc61cf6457423%20%3D%20L.marker%28%0A%20%20%20%20%20%20%20%20%20%20%20%20%20%20%20%20%5B7.4892974%2C%209.0643305%5D%2C%0A%20%20%20%20%20%20%20%20%20%20%20%20%20%20%20%20%7B%22fillColor%22%3A%20%22red%22%2C%20%22radius%22%3A%206%7D%0A%20%20%20%20%20%20%20%20%20%20%20%20%29.addTo%28map_c13657eb2fa148f2aac85cc16a883752%29%3B%0A%20%20%20%20%20%20%20%20%0A%20%20%20%20%0A%20%20%20%20%20%20%20%20var%20popup_6068002e0e2e4eba90b8b54dac746188%20%3D%20L.popup%28%7B%22maxWidth%22%3A%20%22100%25%22%7D%29%3B%0A%0A%20%20%20%20%20%20%20%20%0A%20%20%20%20%20%20%20%20%20%20%20%20var%20html_ef54d82657494958999ae0d95d0823e5%20%3D%20%24%28%60%3Cdiv%20id%3D%22html_ef54d82657494958999ae0d95d0823e5%22%20style%3D%22width%3A%20100.0%25%3B%20height%3A%20100.0%25%3B%22%3EAllen%20Avenue%201%3C/div%3E%60%29%5B0%5D%3B%0A%20%20%20%20%20%20%20%20%20%20%20%20popup_6068002e0e2e4eba90b8b54dac746188.setContent%28html_ef54d82657494958999ae0d95d0823e5%29%3B%0A%20%20%20%20%20%20%20%20%0A%0A%20%20%20%20%20%20%20%20marker_243e87e83e5540b69d2bc61cf6457423.bindPopup%28popup_6068002e0e2e4eba90b8b54dac746188%29%0A%20%20%20%20%20%20%20%20%3B%0A%0A%20%20%20%20%20%20%20%20%0A%20%20%20%20%0A%20%20%20%20%0A%20%20%20%20%20%20%20%20%20%20%20%20var%20marker_1aee679456c241c588a269133fb16c09%20%3D%20L.marker%28%0A%20%20%20%20%20%20%20%20%20%20%20%20%20%20%20%20%5B7.2239417932662775%2C%2010.4621398%5D%2C%0A%20%20%20%20%20%20%20%20%20%20%20%20%20%20%20%20%7B%22fillColor%22%3A%20%22red%22%2C%20%22radius%22%3A%206%7D%0A%20%20%20%20%20%20%20%20%20%20%20%20%29.addTo%28map_c13657eb2fa148f2aac85cc16a883752%29%3B%0A%20%20%20%20%20%20%20%20%0A%20%20%20%20%0A%20%20%20%20%20%20%20%20var%20popup_e1ab471418c6472392e837d4f0602380%20%3D%20L.popup%28%7B%22maxWidth%22%3A%20%22100%25%22%7D%29%3B%0A%0A%20%20%20%20%20%20%20%20%0A%20%20%20%20%20%20%20%20%20%20%20%20var%20html_0f3ad59fbd9e4c5dafa141ff11dda785%20%3D%20%24%28%60%3Cdiv%20id%3D%22html_0f3ad59fbd9e4c5dafa141ff11dda785%22%20style%3D%22width%3A%20100.0%25%3B%20height%3A%20100.0%25%3B%22%3EMaitama%201%3C/div%3E%60%29%5B0%5D%3B%0A%20%20%20%20%20%20%20%20%20%20%20%20popup_e1ab471418c6472392e837d4f0602380.setContent%28html_0f3ad59fbd9e4c5dafa141ff11dda785%29%3B%0A%20%20%20%20%20%20%20%20%0A%0A%20%20%20%20%20%20%20%20marker_1aee679456c241c588a269133fb16c09.bindPopup%28popup_e1ab471418c6472392e837d4f0602380%29%0A%20%20%20%20%20%20%20%20%3B%0A%0A%20%20%20%20%20%20%20%20%0A%20%20%20%20%0A%20%20%20%20%0A%20%20%20%20%20%20%20%20%20%20%20%20var%20marker_95c2bf03409b40e489e36bda37ee9bf7%20%3D%20L.marker%28%0A%20%20%20%20%20%20%20%20%20%20%20%20%20%20%20%20%5B6.8604088%2C%204.8416028%5D%2C%0A%20%20%20%20%20%20%20%20%20%20%20%20%20%20%20%20%7B%22fillColor%22%3A%20%22red%22%2C%20%22radius%22%3A%206%7D%0A%20%20%20%20%20%20%20%20%20%20%20%20%29.addTo%28map_c13657eb2fa148f2aac85cc16a883752%29%3B%0A%20%20%20%20%20%20%20%20%0A%20%20%20%20%0A%20%20%20%20%20%20%20%20var%20popup_5c9dc5de4a54499eb7639a48be2d38d8%20%3D%20L.popup%28%7B%22maxWidth%22%3A%20%22100%25%22%7D%29%3B%0A%0A%20%20%20%20%20%20%20%20%0A%20%20%20%20%20%20%20%20%20%20%20%20var%20html_208d9f0e556e4cfebf2bcb307a471041%20%3D%20%24%28%60%3Cdiv%20id%3D%22html_208d9f0e556e4cfebf2bcb307a471041%22%20style%3D%22width%3A%20100.0%25%3B%20height%3A%20100.0%25%3B%22%3EZuba%3C/div%3E%60%29%5B0%5D%3B%0A%20%20%20%20%20%20%20%20%20%20%20%20popup_5c9dc5de4a54499eb7639a48be2d38d8.setContent%28html_208d9f0e556e4cfebf2bcb307a471041%29%3B%0A%20%20%20%20%20%20%20%20%0A%0A%20%20%20%20%20%20%20%20marker_95c2bf03409b40e489e36bda37ee9bf7.bindPopup%28popup_5c9dc5de4a54499eb7639a48be2d38d8%29%0A%20%20%20%20%20%20%20%20%3B%0A%0A%20%20%20%20%20%20%20%20%0A%20%20%20%20%0A%20%20%20%20%0A%20%20%20%20%20%20%20%20%20%20%20%20var%20marker_26f13f4cd65b448fb55a936fdac6a249%20%3D%20L.marker%28%0A%20%20%20%20%20%20%20%20%20%20%20%20%20%20%20%20%5B3.5642897%2C%208.2151249%5D%2C%0A%20%20%20%20%20%20%20%20%20%20%20%20%20%20%20%20%7B%22fillColor%22%3A%20%22red%22%2C%20%22radius%22%3A%206%7D%0A%20%20%20%20%20%20%20%20%20%20%20%20%29.addTo%28map_c13657eb2fa148f2aac85cc16a883752%29%3B%0A%20%20%20%20%20%20%20%20%0A%20%20%20%20%0A%20%20%20%20%20%20%20%20var%20popup_a86cf544cae042a3b25857c3a5d71770%20%3D%20L.popup%28%7B%22maxWidth%22%3A%20%22100%25%22%7D%29%3B%0A%0A%20%20%20%20%20%20%20%20%0A%20%20%20%20%20%20%20%20%20%20%20%20var%20html_7e9677b0cf7346b3802c542ad2dcbca7%20%3D%20%24%28%60%3Cdiv%20id%3D%22html_7e9677b0cf7346b3802c542ad2dcbca7%22%20style%3D%22width%3A%20100.0%25%3B%20height%3A%20100.0%25%3B%22%3EBwari%20Main%3C/div%3E%60%29%5B0%5D%3B%0A%20%20%20%20%20%20%20%20%20%20%20%20popup_a86cf544cae042a3b25857c3a5d71770.setContent%28html_7e9677b0cf7346b3802c542ad2dcbca7%29%3B%0A%20%20%20%20%20%20%20%20%0A%0A%20%20%20%20%20%20%20%20marker_26f13f4cd65b448fb55a936fdac6a249.bindPopup%28popup_a86cf544cae042a3b25857c3a5d71770%29%0A%20%20%20%20%20%20%20%20%3B%0A%0A%20%20%20%20%20%20%20%20%0A%20%20%20%20%0A%20%20%20%20%0A%20%20%20%20%20%20%20%20%20%20%20%20var%20marker_a2f41690b6944250bd3de6c52df9532e%20%3D%20L.marker%28%0A%20%20%20%20%20%20%20%20%20%20%20%20%20%20%20%20%5B3.3941795%2C%206.4550575%5D%2C%0A%20%20%20%20%20%20%20%20%20%20%20%20%20%20%20%20%7B%22fillColor%22%3A%20%22red%22%2C%20%22radius%22%3A%206%7D%0A%20%20%20%20%20%20%20%20%20%20%20%20%29.addTo%28map_c13657eb2fa148f2aac85cc16a883752%29%3B%0A%20%20%20%20%20%20%20%20%0A%20%20%20%20%0A%20%20%20%20%20%20%20%20var%20popup_35688b8093104f0b8cae3cab063db6f3%20%3D%20L.popup%28%7B%22maxWidth%22%3A%20%22100%25%22%7D%29%3B%0A%0A%20%20%20%20%20%20%20%20%0A%20%20%20%20%20%20%20%20%20%20%20%20var%20html_f76c46592acc4d02abd1cb64beced8f5%20%3D%20%24%28%60%3Cdiv%20id%3D%22html_f76c46592acc4d02abd1cb64beced8f5%22%20style%3D%22width%3A%20100.0%25%3B%20height%3A%20100.0%25%3B%22%3EPort%20Harcourt%3C/div%3E%60%29%5B0%5D%3B%0A%20%20%20%20%20%20%20%20%20%20%20%20popup_35688b8093104f0b8cae3cab063db6f3.setContent%28html_f76c46592acc4d02abd1cb64beced8f5%29%3B%0A%20%20%20%20%20%20%20%20%0A%0A%20%20%20%20%20%20%20%20marker_a2f41690b6944250bd3de6c52df9532e.bindPopup%28popup_35688b8093104f0b8cae3cab063db6f3%29%0A%20%20%20%20%20%20%20%20%3B%0A%0A%20%20%20%20%20%20%20%20%0A%20%20%20%20%0A%20%20%20%20%0A%20%20%20%20%20%20%20%20%20%20%20%20var%20marker_f80f3c26204e4616b10667005431e11e%20%3D%20L.marker%28%0A%20%20%20%20%20%20%20%20%20%20%20%20%20%20%20%20%5B3.4389293%2C%206.9788582%5D%2C%0A%20%20%20%20%20%20%20%20%20%20%20%20%20%20%20%20%7B%22fillColor%22%3A%20%22red%22%2C%20%22radius%22%3A%206%7D%0A%20%20%20%20%20%20%20%20%20%20%20%20%29.addTo%28map_c13657eb2fa148f2aac85cc16a883752%29%3B%0A%20%20%20%20%20%20%20%20%0A%20%20%20%20%0A%20%20%20%20%20%20%20%20var%20popup_cfc9ccd595b34a39b7f7c7fab3d9434b%20%3D%20L.popup%28%7B%22maxWidth%22%3A%20%22100%25%22%7D%29%3B%0A%0A%20%20%20%20%20%20%20%20%0A%20%20%20%20%20%20%20%20%20%20%20%20var%20html_6b57d44e75da481cae8b67fb4ece5b3a%20%3D%20%24%28%60%3Cdiv%20id%3D%22html_6b57d44e75da481cae8b67fb4ece5b3a%22%20style%3D%22width%3A%20100.0%25%3B%20height%3A%20100.0%25%3B%22%3EIbadan%3C/div%3E%60%29%5B0%5D%3B%0A%20%20%20%20%20%20%20%20%20%20%20%20popup_cfc9ccd595b34a39b7f7c7fab3d9434b.setContent%28html_6b57d44e75da481cae8b67fb4ece5b3a%29%3B%0A%20%20%20%20%20%20%20%20%0A%0A%20%20%20%20%20%20%20%20marker_f80f3c26204e4616b10667005431e11e.bindPopup%28popup_cfc9ccd595b34a39b7f7c7fab3d9434b%29%0A%20%20%20%20%20%20%20%20%3B%0A%0A%20%20%20%20%20%20%20%20%0A%20%20%20%20%0A%20%20%20%20%0A%20%20%20%20%20%20%20%20%20%20%20%20var%20marker_8f712f629f524d799ffa25644619b4ad%20%3D%20L.marker%28%0A%20%20%20%20%20%20%20%20%20%20%20%20%20%20%20%20%5B-0.3698915%2C%2049.1810037%5D%2C%0A%20%20%20%20%20%20%20%20%20%20%20%20%20%20%20%20%7B%22fillColor%22%3A%20%22red%22%2C%20%22radius%22%3A%206%7D%0A%20%20%20%20%20%20%20%20%20%20%20%20%29.addTo%28map_c13657eb2fa148f2aac85cc16a883752%29%3B%0A%20%20%20%20%20%20%20%20%0A%20%20%20%20%0A%20%20%20%20%20%20%20%20var%20popup_905091e79bf546e2b1fa18369a683b35%20%3D%20L.popup%28%7B%22maxWidth%22%3A%20%22100%25%22%7D%29%3B%0A%0A%20%20%20%20%20%20%20%20%0A%20%20%20%20%20%20%20%20%20%20%20%20var%20html_5f1bbc9971164358b25123345ba7d104%20%3D%20%24%28%60%3Cdiv%20id%3D%22html_5f1bbc9971164358b25123345ba7d104%22%20style%3D%22width%3A%20100.0%25%3B%20height%3A%20100.0%25%3B%22%3EMatori%3C/div%3E%60%29%5B0%5D%3B%0A%20%20%20%20%20%20%20%20%20%20%20%20popup_905091e79bf546e2b1fa18369a683b35.setContent%28html_5f1bbc9971164358b25123345ba7d104%29%3B%0A%20%20%20%20%20%20%20%20%0A%0A%20%20%20%20%20%20%20%20marker_8f712f629f524d799ffa25644619b4ad.bindPopup%28popup_905091e79bf546e2b1fa18369a683b35%29%0A%20%20%20%20%20%20%20%20%3B%0A%0A%20%20%20%20%20%20%20%20%0A%20%20%20%20%0A%20%20%20%20%0A%20%20%20%20%20%20%20%20%20%20%20%20var%20marker_eb8eb31998f245f498dca5e351fccfeb%20%3D%20L.marker%28%0A%20%20%20%20%20%20%20%20%20%20%20%20%20%20%20%20%5B5.0567477%2C%207.0209686%5D%2C%0A%20%20%20%20%20%20%20%20%20%20%20%20%20%20%20%20%7B%22fillColor%22%3A%20%22red%22%2C%20%22radius%22%3A%206%7D%0A%20%20%20%20%20%20%20%20%20%20%20%20%29.addTo%28map_c13657eb2fa148f2aac85cc16a883752%29%3B%0A%20%20%20%20%20%20%20%20%0A%20%20%20%20%0A%20%20%20%20%20%20%20%20var%20popup_d58b9864afd54dd1aabb179c7e0d7d58%20%3D%20L.popup%28%7B%22maxWidth%22%3A%20%22100%25%22%7D%29%3B%0A%0A%20%20%20%20%20%20%20%20%0A%20%20%20%20%20%20%20%20%20%20%20%20var%20html_830d30a7f5f74c8f851c2bf4efed6da8%20%3D%20%24%28%60%3Cdiv%20id%3D%22html_830d30a7f5f74c8f851c2bf4efed6da8%22%20style%3D%22width%3A%20100.0%25%3B%20height%3A%20100.0%25%3B%22%3ESango%20Ota%201%3C/div%3E%60%29%5B0%5D%3B%0A%20%20%20%20%20%20%20%20%20%20%20%20popup_d58b9864afd54dd1aabb179c7e0d7d58.setContent%28html_830d30a7f5f74c8f851c2bf4efed6da8%29%3B%0A%20%20%20%20%20%20%20%20%0A%0A%20%20%20%20%20%20%20%20marker_eb8eb31998f245f498dca5e351fccfeb.bindPopup%28popup_d58b9864afd54dd1aabb179c7e0d7d58%29%0A%20%20%20%20%20%20%20%20%3B%0A%0A%20%20%20%20%20%20%20%20%0A%20%20%20%20%0A%20%20%20%20%0A%20%20%20%20%20%20%20%20%20%20%20%20var%20marker_61139c9e8a304366b48bfdcff61ee143%20%3D%20L.marker%28%0A%20%20%20%20%20%20%20%20%20%20%20%20%20%20%20%20%5B7.8533226%2C%2010.3825318%5D%2C%0A%20%20%20%20%20%20%20%20%20%20%20%20%20%20%20%20%7B%22fillColor%22%3A%20%22red%22%2C%20%22radius%22%3A%206%7D%0A%20%20%20%20%20%20%20%20%20%20%20%20%29.addTo%28map_c13657eb2fa148f2aac85cc16a883752%29%3B%0A%20%20%20%20%20%20%20%20%0A%20%20%20%20%0A%20%20%20%20%20%20%20%20var%20popup_03f2b9595f624b908ff2af770bd43b26%20%3D%20L.popup%28%7B%22maxWidth%22%3A%20%22100%25%22%7D%29%3B%0A%0A%20%20%20%20%20%20%20%20%0A%20%20%20%20%20%20%20%20%20%20%20%20var%20html_b0289e9305d642c1a06d809383de97e6%20%3D%20%24%28%60%3Cdiv%20id%3D%22html_b0289e9305d642c1a06d809383de97e6%22%20style%3D%22width%3A%20100.0%25%3B%20height%3A%20100.0%25%3B%22%3ESurulere%3C/div%3E%60%29%5B0%5D%3B%0A%20%20%20%20%20%20%20%20%20%20%20%20popup_03f2b9595f624b908ff2af770bd43b26.setContent%28html_b0289e9305d642c1a06d809383de97e6%29%3B%0A%20%20%20%20%20%20%20%20%0A%0A%20%20%20%20%20%20%20%20marker_61139c9e8a304366b48bfdcff61ee143.bindPopup%28popup_03f2b9595f624b908ff2af770bd43b26%29%0A%20%20%20%20%20%20%20%20%3B%0A%0A%20%20%20%20%20%20%20%20%0A%20%20%20%20%0A%20%20%20%20%0A%20%20%20%20%20%20%20%20%20%20%20%20var%20marker_801ab51d5dd0420ab84a5af65cb1e52c%20%3D%20L.marker%28%0A%20%20%20%20%20%20%20%20%20%20%20%20%20%20%20%20%5B5.9722713%2C%206.6076575%5D%2C%0A%20%20%20%20%20%20%20%20%20%20%20%20%20%20%20%20%7B%22fillColor%22%3A%20%22red%22%2C%20%22radius%22%3A%206%7D%0A%20%20%20%20%20%20%20%20%20%20%20%20%29.addTo%28map_c13657eb2fa148f2aac85cc16a883752%29%3B%0A%20%20%20%20%20%20%20%20%0A%20%20%20%20%0A%20%20%20%20%20%20%20%20var%20popup_6f517d22e2cf496a9144a9f865ac0934%20%3D%20L.popup%28%7B%22maxWidth%22%3A%20%22100%25%22%7D%29%3B%0A%0A%20%20%20%20%20%20%20%20%0A%20%20%20%20%20%20%20%20%20%20%20%20var%20html_acdb412408b842e7a6591a14b3485327%20%3D%20%24%28%60%3Cdiv%20id%3D%22html_acdb412408b842e7a6591a14b3485327%22%20style%3D%22width%3A%20100.0%25%3B%20height%3A%20100.0%25%3B%22%3EAlaba%3C/div%3E%60%29%5B0%5D%3B%0A%20%20%20%20%20%20%20%20%20%20%20%20popup_6f517d22e2cf496a9144a9f865ac0934.setContent%28html_acdb412408b842e7a6591a14b3485327%29%3B%0A%20%20%20%20%20%20%20%20%0A%0A%20%20%20%20%20%20%20%20marker_801ab51d5dd0420ab84a5af65cb1e52c.bindPopup%28popup_6f517d22e2cf496a9144a9f865ac0934%29%0A%20%20%20%20%20%20%20%20%3B%0A%0A%20%20%20%20%20%20%20%20%0A%20%20%20%20%0A%20%20%20%20%0A%20%20%20%20%20%20%20%20%20%20%20%20var%20marker_7e21f70e41a842d69eb9467a7dad36b8%20%3D%20L.marker%28%0A%20%20%20%20%20%20%20%20%20%20%20%20%20%20%20%20%5B5.3152203%2C%2013.0611195%5D%2C%0A%20%20%20%20%20%20%20%20%20%20%20%20%20%20%20%20%7B%22fillColor%22%3A%20%22red%22%2C%20%22radius%22%3A%206%7D%0A%20%20%20%20%20%20%20%20%20%20%20%20%29.addTo%28map_c13657eb2fa148f2aac85cc16a883752%29%3B%0A%20%20%20%20%20%20%20%20%0A%20%20%20%20%0A%20%20%20%20%20%20%20%20var%20popup_13d264f8dfb147b18ef1113949174db1%20%3D%20L.popup%28%7B%22maxWidth%22%3A%20%22100%25%22%7D%29%3B%0A%0A%20%20%20%20%20%20%20%20%0A%20%20%20%20%20%20%20%20%20%20%20%20var%20html_7d10d29b702243fab7903517959743c6%20%3D%20%24%28%60%3Cdiv%20id%3D%22html_7d10d29b702243fab7903517959743c6%22%20style%3D%22width%3A%20100.0%25%3B%20height%3A%20100.0%25%3B%22%3EIkeja%3C/div%3E%60%29%5B0%5D%3B%0A%20%20%20%20%20%20%20%20%20%20%20%20popup_13d264f8dfb147b18ef1113949174db1.setContent%28html_7d10d29b702243fab7903517959743c6%29%3B%0A%20%20%20%20%20%20%20%20%0A%0A%20%20%20%20%20%20%20%20marker_7e21f70e41a842d69eb9467a7dad36b8.bindPopup%28popup_13d264f8dfb147b18ef1113949174db1%29%0A%20%20%20%20%20%20%20%20%3B%0A%0A%20%20%20%20%20%20%20%20%0A%20%20%20%20%0A%20%20%20%20%0A%20%20%20%20%20%20%20%20%20%20%20%20var%20marker_2999180f65d2440d93893d69da041e29%20%3D%20L.marker%28%0A%20%20%20%20%20%20%20%20%20%20%20%20%20%20%20%20%5B80.6760004%2C%207.1168383%5D%2C%0A%20%20%20%20%20%20%20%20%20%20%20%20%20%20%20%20%7B%22fillColor%22%3A%20%22red%22%2C%20%22radius%22%3A%206%7D%0A%20%20%20%20%20%20%20%20%20%20%20%20%29.addTo%28map_c13657eb2fa148f2aac85cc16a883752%29%3B%0A%20%20%20%20%20%20%20%20%0A%20%20%20%20%0A%20%20%20%20%20%20%20%20var%20popup_1dc118dfc00246ea8cce18b3a704dd83%20%3D%20L.popup%28%7B%22maxWidth%22%3A%20%22100%25%22%7D%29%3B%0A%0A%20%20%20%20%20%20%20%20%0A%20%20%20%20%20%20%20%20%20%20%20%20var%20html_a4630d874a174614ba6323061338a05b%20%3D%20%24%28%60%3Cdiv%20id%3D%22html_a4630d874a174614ba6323061338a05b%22%20style%3D%22width%3A%20100.0%25%3B%20height%3A%20100.0%25%3B%22%3EAgbara%3C/div%3E%60%29%5B0%5D%3B%0A%20%20%20%20%20%20%20%20%20%20%20%20popup_1dc118dfc00246ea8cce18b3a704dd83.setContent%28html_a4630d874a174614ba6323061338a05b%29%3B%0A%20%20%20%20%20%20%20%20%0A%0A%20%20%20%20%20%20%20%20marker_2999180f65d2440d93893d69da041e29.bindPopup%28popup_1dc118dfc00246ea8cce18b3a704dd83%29%0A%20%20%20%20%20%20%20%20%3B%0A%0A%20%20%20%20%20%20%20%20%0A%20%20%20%20%0A%20%20%20%20%0A%20%20%20%20%20%20%20%20%20%20%20%20var%20marker_edfa71b0103a465c9892ec54aca1aff8%20%3D%20L.marker%28%0A%20%20%20%20%20%20%20%20%20%20%20%20%20%20%20%20%5B6.9531842%2C%206.2183136%5D%2C%0A%20%20%20%20%20%20%20%20%20%20%20%20%20%20%20%20%7B%22fillColor%22%3A%20%22red%22%2C%20%22radius%22%3A%206%7D%0A%20%20%20%20%20%20%20%20%20%20%20%20%29.addTo%28map_c13657eb2fa148f2aac85cc16a883752%29%3B%0A%20%20%20%20%20%20%20%20%0A%20%20%20%20%0A%20%20%20%20%20%20%20%20var%20popup_1ad7c0330d824fa1b53cd03dd0537f5f%20%3D%20L.popup%28%7B%22maxWidth%22%3A%20%22100%25%22%7D%29%3B%0A%0A%20%20%20%20%20%20%20%20%0A%20%20%20%20%20%20%20%20%20%20%20%20var%20html_2a6d97ab321b4a28939facffe71ae27b%20%3D%20%24%28%60%3Cdiv%20id%3D%22html_2a6d97ab321b4a28939facffe71ae27b%22%20style%3D%22width%3A%20100.0%25%3B%20height%3A%20100.0%25%3B%22%3ESokoto%3C/div%3E%60%29%5B0%5D%3B%0A%20%20%20%20%20%20%20%20%20%20%20%20popup_1ad7c0330d824fa1b53cd03dd0537f5f.setContent%28html_2a6d97ab321b4a28939facffe71ae27b%29%3B%0A%20%20%20%20%20%20%20%20%0A%0A%20%20%20%20%20%20%20%20marker_edfa71b0103a465c9892ec54aca1aff8.bindPopup%28popup_1ad7c0330d824fa1b53cd03dd0537f5f%29%0A%20%20%20%20%20%20%20%20%3B%0A%0A%20%20%20%20%20%20%20%20%0A%20%20%20%20%0A%20%20%20%20%0A%20%20%20%20%20%20%20%20%20%20%20%20var%20marker_bb609afc8ce74bfc836e8c283c9e5cee%20%3D%20L.marker%28%0A%20%20%20%20%20%20%20%20%20%20%20%20%20%20%20%20%5B7.924791%2C%205.0322447%5D%2C%0A%20%20%20%20%20%20%20%20%20%20%20%20%20%20%20%20%7B%22fillColor%22%3A%20%22red%22%2C%20%22radius%22%3A%206%7D%0A%20%20%20%20%20%20%20%20%20%20%20%20%29.addTo%28map_c13657eb2fa148f2aac85cc16a883752%29%3B%0A%20%20%20%20%20%20%20%20%0A%20%20%20%20%0A%20%20%20%20%20%20%20%20var%20popup_5cec2e8b38ac4d14b2d88b4a1747c1a3%20%3D%20L.popup%28%7B%22maxWidth%22%3A%20%22100%25%22%7D%29%3B%0A%0A%20%20%20%20%20%20%20%20%0A%20%20%20%20%20%20%20%20%20%20%20%20var%20html_fe6396be7b73474fbee5a14c995a0933%20%3D%20%24%28%60%3Cdiv%20id%3D%22html_fe6396be7b73474fbee5a14c995a0933%22%20style%3D%22width%3A%20100.0%25%3B%20height%3A%20100.0%25%3B%22%3ELekki%3C/div%3E%60%29%5B0%5D%3B%0A%20%20%20%20%20%20%20%20%20%20%20%20popup_5cec2e8b38ac4d14b2d88b4a1747c1a3.setContent%28html_fe6396be7b73474fbee5a14c995a0933%29%3B%0A%20%20%20%20%20%20%20%20%0A%0A%20%20%20%20%20%20%20%20marker_bb609afc8ce74bfc836e8c283c9e5cee.bindPopup%28popup_5cec2e8b38ac4d14b2d88b4a1747c1a3%29%0A%20%20%20%20%20%20%20%20%3B%0A%0A%20%20%20%20%20%20%20%20%0A%20%20%20%20%0A%20%20%20%20%0A%20%20%20%20%20%20%20%20%20%20%20%20var%20marker_056eb53d533743f1af71cc30f777b4a1%20%3D%20L.marker%28%0A%20%20%20%20%20%20%20%20%20%20%20%20%20%20%20%20%5B-0.5093885%2C%2051.6245826%5D%2C%0A%20%20%20%20%20%20%20%20%20%20%20%20%20%20%20%20%7B%22fillColor%22%3A%20%22red%22%2C%20%22radius%22%3A%206%7D%0A%20%20%20%20%20%20%20%20%20%20%20%20%29.addTo%28map_c13657eb2fa148f2aac85cc16a883752%29%3B%0A%20%20%20%20%20%20%20%20%0A%20%20%20%20%0A%20%20%20%20%20%20%20%20var%20popup_9dee067b6fc542969cf7b6608e3f5eb8%20%3D%20L.popup%28%7B%22maxWidth%22%3A%20%22100%25%22%7D%29%3B%0A%0A%20%20%20%20%20%20%20%20%0A%20%20%20%20%20%20%20%20%20%20%20%20var%20html_0c9d56499d07434aaf091055aacae8e0%20%3D%20%24%28%60%3Cdiv%20id%3D%22html_0c9d56499d07434aaf091055aacae8e0%22%20style%3D%22width%3A%20100.0%25%3B%20height%3A%20100.0%25%3B%22%3EIkotun%3C/div%3E%60%29%5B0%5D%3B%0A%20%20%20%20%20%20%20%20%20%20%20%20popup_9dee067b6fc542969cf7b6608e3f5eb8.setContent%28html_0c9d56499d07434aaf091055aacae8e0%29%3B%0A%20%20%20%20%20%20%20%20%0A%0A%20%20%20%20%20%20%20%20marker_056eb53d533743f1af71cc30f777b4a1.bindPopup%28popup_9dee067b6fc542969cf7b6608e3f5eb8%29%0A%20%20%20%20%20%20%20%20%3B%0A%0A%20%20%20%20%20%20%20%20%0A%20%20%20%20%0A%20%20%20%20%0A%20%20%20%20%20%20%20%20%20%20%20%20var%20marker_acd42bb2cd7a4855b0beead6df9b8811%20%3D%20L.marker%28%0A%20%20%20%20%20%20%20%20%20%20%20%20%20%20%20%20%5B6.792318%2C%206.133234%5D%2C%0A%20%20%20%20%20%20%20%20%20%20%20%20%20%20%20%20%7B%22fillColor%22%3A%20%22red%22%2C%20%22radius%22%3A%206%7D%0A%20%20%20%20%20%20%20%20%20%20%20%20%29.addTo%28map_c13657eb2fa148f2aac85cc16a883752%29%3B%0A%20%20%20%20%20%20%20%20%0A%20%20%20%20%0A%20%20%20%20%20%20%20%20var%20popup_33c74f88388b4762a4e1be80f9f41e8f%20%3D%20L.popup%28%7B%22maxWidth%22%3A%20%22100%25%22%7D%29%3B%0A%0A%20%20%20%20%20%20%20%20%0A%20%20%20%20%20%20%20%20%20%20%20%20var%20html_e18891b933bc45779df13b31b86ea54f%20%3D%20%24%28%60%3Cdiv%20id%3D%22html_e18891b933bc45779df13b31b86ea54f%22%20style%3D%22width%3A%20100.0%25%3B%20height%3A%20100.0%25%3B%22%3EAka%20Rd%20%28Uyo%202%29%3C/div%3E%60%29%5B0%5D%3B%0A%20%20%20%20%20%20%20%20%20%20%20%20popup_33c74f88388b4762a4e1be80f9f41e8f.setContent%28html_e18891b933bc45779df13b31b86ea54f%29%3B%0A%20%20%20%20%20%20%20%20%0A%0A%20%20%20%20%20%20%20%20marker_acd42bb2cd7a4855b0beead6df9b8811.bindPopup%28popup_33c74f88388b4762a4e1be80f9f41e8f%29%0A%20%20%20%20%20%20%20%20%3B%0A%0A%20%20%20%20%20%20%20%20%0A%20%20%20%20%0A%20%20%20%20%0A%20%20%20%20%20%20%20%20%20%20%20%20var%20marker_d49650cf6c3a4758b0c509e20f726530%20%3D%20L.marker%28%0A%20%20%20%20%20%20%20%20%20%20%20%20%20%20%20%20%5B7.0341973%2C%205.489736%5D%2C%0A%20%20%20%20%20%20%20%20%20%20%20%20%20%20%20%20%7B%22fillColor%22%3A%20%22red%22%2C%20%22radius%22%3A%206%7D%0A%20%20%20%20%20%20%20%20%20%20%20%20%29.addTo%28map_c13657eb2fa148f2aac85cc16a883752%29%3B%0A%20%20%20%20%20%20%20%20%0A%20%20%20%20%0A%20%20%20%20%20%20%20%20var%20popup_b8de091a88634562bcdf08f2a6f65d24%20%3D%20L.popup%28%7B%22maxWidth%22%3A%20%22100%25%22%7D%29%3B%0A%0A%20%20%20%20%20%20%20%20%0A%20%20%20%20%20%20%20%20%20%20%20%20var%20html_9833dbe923224c1dbc9d694db2fc69d6%20%3D%20%24%28%60%3Cdiv%20id%3D%22html_9833dbe923224c1dbc9d694db2fc69d6%22%20style%3D%22width%3A%20100.0%25%3B%20height%3A%20100.0%25%3B%22%3EEkpoma%3C/div%3E%60%29%5B0%5D%3B%0A%20%20%20%20%20%20%20%20%20%20%20%20popup_b8de091a88634562bcdf08f2a6f65d24.setContent%28html_9833dbe923224c1dbc9d694db2fc69d6%29%3B%0A%20%20%20%20%20%20%20%20%0A%0A%20%20%20%20%20%20%20%20marker_d49650cf6c3a4758b0c509e20f726530.bindPopup%28popup_b8de091a88634562bcdf08f2a6f65d24%29%0A%20%20%20%20%20%20%20%20%3B%0A%0A%20%20%20%20%20%20%20%20%0A%20%20%20%20%0A%20%20%20%20%0A%20%20%20%20%20%20%20%20%20%20%20%20var%20marker_b634e5297e0c4fe488a40340d5dd88c1%20%3D%20L.marker%28%0A%20%20%20%20%20%20%20%20%20%20%20%20%20%20%20%20%5B6.028898%2C%204.7629786%5D%2C%0A%20%20%20%20%20%20%20%20%20%20%20%20%20%20%20%20%7B%22fillColor%22%3A%20%22red%22%2C%20%22radius%22%3A%206%7D%0A%20%20%20%20%20%20%20%20%20%20%20%20%29.addTo%28map_c13657eb2fa148f2aac85cc16a883752%29%3B%0A%20%20%20%20%20%20%20%20%0A%20%20%20%20%0A%20%20%20%20%20%20%20%20var%20popup_d08a7c90c1754243821d050d59a75ce4%20%3D%20L.popup%28%7B%22maxWidth%22%3A%20%22100%25%22%7D%29%3B%0A%0A%20%20%20%20%20%20%20%20%0A%20%20%20%20%20%20%20%20%20%20%20%20var%20html_f51e653d327749b69b9b35819925f7b8%20%3D%20%24%28%60%3Cdiv%20id%3D%22html_f51e653d327749b69b9b35819925f7b8%22%20style%3D%22width%3A%20100.0%25%3B%20height%3A%20100.0%25%3B%22%3EWarri%3C/div%3E%60%29%5B0%5D%3B%0A%20%20%20%20%20%20%20%20%20%20%20%20popup_d08a7c90c1754243821d050d59a75ce4.setContent%28html_f51e653d327749b69b9b35819925f7b8%29%3B%0A%20%20%20%20%20%20%20%20%0A%0A%20%20%20%20%20%20%20%20marker_b634e5297e0c4fe488a40340d5dd88c1.bindPopup%28popup_d08a7c90c1754243821d050d59a75ce4%29%0A%20%20%20%20%20%20%20%20%3B%0A%0A%20%20%20%20%20%20%20%20%0A%20%20%20%20%0A%20%20%20%20%0A%20%20%20%20%20%20%20%20%20%20%20%20var%20marker_0cdc936c5b064baaa1ee437f65a28994%20%3D%20L.marker%28%0A%20%20%20%20%20%20%20%20%20%20%20%20%20%20%20%20%5B6.267666%2C%207.067445%5D%2C%0A%20%20%20%20%20%20%20%20%20%20%20%20%20%20%20%20%7B%22fillColor%22%3A%20%22red%22%2C%20%22radius%22%3A%206%7D%0A%20%20%20%20%20%20%20%20%20%20%20%20%29.addTo%28map_c13657eb2fa148f2aac85cc16a883752%29%3B%0A%20%20%20%20%20%20%20%20%0A%20%20%20%20%0A%20%20%20%20%20%20%20%20var%20popup_6074c50e26ad4bbc8cb1269654eb474b%20%3D%20L.popup%28%7B%22maxWidth%22%3A%20%22100%25%22%7D%29%3B%0A%0A%20%20%20%20%20%20%20%20%0A%20%20%20%20%20%20%20%20%20%20%20%20var%20html_082690ad9c5f459ca720a4a6d2a4cf69%20%3D%20%24%28%60%3Cdiv%20id%3D%22html_082690ad9c5f459ca720a4a6d2a4cf69%22%20style%3D%22width%3A%20100.0%25%3B%20height%3A%20100.0%25%3B%22%3EOwerri%3C/div%3E%60%29%5B0%5D%3B%0A%20%20%20%20%20%20%20%20%20%20%20%20popup_6074c50e26ad4bbc8cb1269654eb474b.setContent%28html_082690ad9c5f459ca720a4a6d2a4cf69%29%3B%0A%20%20%20%20%20%20%20%20%0A%0A%20%20%20%20%20%20%20%20marker_0cdc936c5b064baaa1ee437f65a28994.bindPopup%28popup_6074c50e26ad4bbc8cb1269654eb474b%29%0A%20%20%20%20%20%20%20%20%3B%0A%0A%20%20%20%20%20%20%20%20%0A%20%20%20%20%0A%20%20%20%20%0A%20%20%20%20%20%20%20%20%20%20%20%20var%20marker_193ef7a32ba749ffb63e90d2c2fe9c26%20%3D%20L.marker%28%0A%20%20%20%20%20%20%20%20%20%20%20%20%20%20%20%20%5B10.7376336%2C%208.0141334%5D%2C%0A%20%20%20%20%20%20%20%20%20%20%20%20%20%20%20%20%7B%22fillColor%22%3A%20%22red%22%2C%20%22radius%22%3A%206%7D%0A%20%20%20%20%20%20%20%20%20%20%20%20%29.addTo%28map_c13657eb2fa148f2aac85cc16a883752%29%3B%0A%20%20%20%20%20%20%20%20%0A%20%20%20%20%0A%20%20%20%20%20%20%20%20var%20popup_b833ff9c13684588b17ecebd6d7de355%20%3D%20L.popup%28%7B%22maxWidth%22%3A%20%22100%25%22%7D%29%3B%0A%0A%20%20%20%20%20%20%20%20%0A%20%20%20%20%20%20%20%20%20%20%20%20var%20html_f378b7bf171148979f84e0c96a702573%20%3D%20%24%28%60%3Cdiv%20id%3D%22html_f378b7bf171148979f84e0c96a702573%22%20style%3D%22width%3A%20100.0%25%3B%20height%3A%20100.0%25%3B%22%3EYenogoa%3C/div%3E%60%29%5B0%5D%3B%0A%20%20%20%20%20%20%20%20%20%20%20%20popup_b833ff9c13684588b17ecebd6d7de355.setContent%28html_f378b7bf171148979f84e0c96a702573%29%3B%0A%20%20%20%20%20%20%20%20%0A%0A%20%20%20%20%20%20%20%20marker_193ef7a32ba749ffb63e90d2c2fe9c26.bindPopup%28popup_b833ff9c13684588b17ecebd6d7de355%29%0A%20%20%20%20%20%20%20%20%3B%0A%0A%20%20%20%20%20%20%20%20%0A%20%20%20%20%0A%20%20%20%20%0A%20%20%20%20%20%20%20%20%20%20%20%20var%20marker_76854544c9224818ba4665e8b3f5e1dd%20%3D%20L.marker%28%0A%20%20%20%20%20%20%20%20%20%20%20%20%20%20%20%20%5B5.22274%2C%207.6232482%5D%2C%0A%20%20%20%20%20%20%20%20%20%20%20%20%20%20%20%20%7B%22fillColor%22%3A%20%22red%22%2C%20%22radius%22%3A%206%7D%0A%20%20%20%20%20%20%20%20%20%20%20%20%29.addTo%28map_c13657eb2fa148f2aac85cc16a883752%29%3B%0A%20%20%20%20%20%20%20%20%0A%20%20%20%20%0A%20%20%20%20%20%20%20%20var%20popup_32018600b22b481d8d9a25d2fabb9deb%20%3D%20L.popup%28%7B%22maxWidth%22%3A%20%22100%25%22%7D%29%3B%0A%0A%20%20%20%20%20%20%20%20%0A%20%20%20%20%20%20%20%20%20%20%20%20var%20html_c96980a918234f599c6a897d142ac0cb%20%3D%20%24%28%60%3Cdiv%20id%3D%22html_c96980a918234f599c6a897d142ac0cb%22%20style%3D%22width%3A%20100.0%25%3B%20height%3A%20100.0%25%3B%22%3EAuchi%3C/div%3E%60%29%5B0%5D%3B%0A%20%20%20%20%20%20%20%20%20%20%20%20popup_32018600b22b481d8d9a25d2fabb9deb.setContent%28html_c96980a918234f599c6a897d142ac0cb%29%3B%0A%20%20%20%20%20%20%20%20%0A%0A%20%20%20%20%20%20%20%20marker_76854544c9224818ba4665e8b3f5e1dd.bindPopup%28popup_32018600b22b481d8d9a25d2fabb9deb%29%0A%20%20%20%20%20%20%20%20%3B%0A%0A%20%20%20%20%20%20%20%20%0A%20%20%20%20%0A%20%20%20%20%0A%20%20%20%20%20%20%20%20%20%20%20%20var%20marker_d67cd7adc5804b3cafd858fe1032e78b%20%3D%20L.marker%28%0A%20%20%20%20%20%20%20%20%20%20%20%20%20%20%20%20%5B7.5153071%2C%205.4540953%5D%2C%0A%20%20%20%20%20%20%20%20%20%20%20%20%20%20%20%20%7B%22fillColor%22%3A%20%22red%22%2C%20%22radius%22%3A%206%7D%0A%20%20%20%20%20%20%20%20%20%20%20%20%29.addTo%28map_c13657eb2fa148f2aac85cc16a883752%29%3B%0A%20%20%20%20%20%20%20%20%0A%20%20%20%20%0A%20%20%20%20%20%20%20%20var%20popup_fc9a841ab58849638faecfc029b06f18%20%3D%20L.popup%28%7B%22maxWidth%22%3A%20%22100%25%22%7D%29%3B%0A%0A%20%20%20%20%20%20%20%20%0A%20%20%20%20%20%20%20%20%20%20%20%20var%20html_98ba6042f642481db13005e6d35d3289%20%3D%20%24%28%60%3Cdiv%20id%3D%22html_98ba6042f642481db13005e6d35d3289%22%20style%3D%22width%3A%20100.0%25%3B%20height%3A%20100.0%25%3B%22%3EJalingo%3C/div%3E%60%29%5B0%5D%3B%0A%20%20%20%20%20%20%20%20%20%20%20%20popup_fc9a841ab58849638faecfc029b06f18.setContent%28html_98ba6042f642481db13005e6d35d3289%29%3B%0A%20%20%20%20%20%20%20%20%0A%0A%20%20%20%20%20%20%20%20marker_d67cd7adc5804b3cafd858fe1032e78b.bindPopup%28popup_fc9a841ab58849638faecfc029b06f18%29%0A%20%20%20%20%20%20%20%20%3B%0A%0A%20%20%20%20%20%20%20%20%0A%20%20%20%20%0A%20%20%20%20%0A%20%20%20%20%20%20%20%20%20%20%20%20var%20marker_2807e899eb86475698c2f8a8fd0548cb%20%3D%20L.marker%28%0A%20%20%20%20%20%20%20%20%20%20%20%20%20%20%20%20%5B8.516667%2C%208.483333%5D%2C%0A%20%20%20%20%20%20%20%20%20%20%20%20%20%20%20%20%7B%22fillColor%22%3A%20%22red%22%2C%20%22radius%22%3A%206%7D%0A%20%20%20%20%20%20%20%20%20%20%20%20%29.addTo%28map_c13657eb2fa148f2aac85cc16a883752%29%3B%0A%20%20%20%20%20%20%20%20%0A%20%20%20%20%0A%20%20%20%20%20%20%20%20var%20popup_4fc939d420b249bcb7b35247b4331c23%20%3D%20L.popup%28%7B%22maxWidth%22%3A%20%22100%25%22%7D%29%3B%0A%0A%20%20%20%20%20%20%20%20%0A%20%20%20%20%20%20%20%20%20%20%20%20var%20html_b5efbca2467c4e728f6f8ba35938bcc0%20%3D%20%24%28%60%3Cdiv%20id%3D%22html_b5efbca2467c4e728f6f8ba35938bcc0%22%20style%3D%22width%3A%20100.0%25%3B%20height%3A%20100.0%25%3B%22%3EAdo-Ekiti%3C/div%3E%60%29%5B0%5D%3B%0A%20%20%20%20%20%20%20%20%20%20%20%20popup_4fc939d420b249bcb7b35247b4331c23.setContent%28html_b5efbca2467c4e728f6f8ba35938bcc0%29%3B%0A%20%20%20%20%20%20%20%20%0A%0A%20%20%20%20%20%20%20%20marker_2807e899eb86475698c2f8a8fd0548cb.bindPopup%28popup_4fc939d420b249bcb7b35247b4331c23%29%0A%20%20%20%20%20%20%20%20%3B%0A%0A%20%20%20%20%20%20%20%20%0A%20%20%20%20%0A%20%20%20%20%0A%20%20%20%20%20%20%20%20%20%20%20%20var%20marker_8a4c4468d2f24ebcb504f09476dca607%20%3D%20L.marker%28%0A%20%20%20%20%20%20%20%20%20%20%20%20%20%20%20%20%5B7.4924165%2C%205.5324032%5D%2C%0A%20%20%20%20%20%20%20%20%20%20%20%20%20%20%20%20%7B%22fillColor%22%3A%20%22red%22%2C%20%22radius%22%3A%206%7D%0A%20%20%20%20%20%20%20%20%20%20%20%20%29.addTo%28map_c13657eb2fa148f2aac85cc16a883752%29%3B%0A%20%20%20%20%20%20%20%20%0A%20%20%20%20%0A%20%20%20%20%20%20%20%20var%20popup_317f028e7410404d8d17428d1b4055e9%20%3D%20L.popup%28%7B%22maxWidth%22%3A%20%22100%25%22%7D%29%3B%0A%0A%20%20%20%20%20%20%20%20%0A%20%20%20%20%20%20%20%20%20%20%20%20var%20html_31ee92fd222f432e9da4254db33179dc%20%3D%20%24%28%60%3Cdiv%20id%3D%22html_31ee92fd222f432e9da4254db33179dc%22%20style%3D%22width%3A%20100.0%25%3B%20height%3A%20100.0%25%3B%22%3EAba%3C/div%3E%60%29%5B0%5D%3B%0A%20%20%20%20%20%20%20%20%20%20%20%20popup_317f028e7410404d8d17428d1b4055e9.setContent%28html_31ee92fd222f432e9da4254db33179dc%29%3B%0A%20%20%20%20%20%20%20%20%0A%0A%20%20%20%20%20%20%20%20marker_8a4c4468d2f24ebcb504f09476dca607.bindPopup%28popup_317f028e7410404d8d17428d1b4055e9%29%0A%20%20%20%20%20%20%20%20%3B%0A%0A%20%20%20%20%20%20%20%20%0A%20%20%20%20%0A%20%20%20%20%0A%20%20%20%20%20%20%20%20%20%20%20%20var%20marker_1f3001d701aa4c31b7874fe5dac98d60%20%3D%20L.marker%28%0A%20%20%20%20%20%20%20%20%20%20%20%20%20%20%20%20%5B4.5538891%2C%207.7791666%5D%2C%0A%20%20%20%20%20%20%20%20%20%20%20%20%20%20%20%20%7B%22fillColor%22%3A%20%22red%22%2C%20%22radius%22%3A%206%7D%0A%20%20%20%20%20%20%20%20%20%20%20%20%29.addTo%28map_c13657eb2fa148f2aac85cc16a883752%29%3B%0A%20%20%20%20%20%20%20%20%0A%20%20%20%20%0A%20%20%20%20%20%20%20%20var%20popup_41d50fbfc0444723ab2e4889286db25d%20%3D%20L.popup%28%7B%22maxWidth%22%3A%20%22100%25%22%7D%29%3B%0A%0A%20%20%20%20%20%20%20%20%0A%20%20%20%20%20%20%20%20%20%20%20%20var%20html_0f0b591b8a074ce297ecddf95064864e%20%3D%20%24%28%60%3Cdiv%20id%3D%22html_0f0b591b8a074ce297ecddf95064864e%22%20style%3D%22width%3A%20100.0%25%3B%20height%3A%20100.0%25%3B%22%3ELafia%3C/div%3E%60%29%5B0%5D%3B%0A%20%20%20%20%20%20%20%20%20%20%20%20popup_41d50fbfc0444723ab2e4889286db25d.setContent%28html_0f0b591b8a074ce297ecddf95064864e%29%3B%0A%20%20%20%20%20%20%20%20%0A%0A%20%20%20%20%20%20%20%20marker_1f3001d701aa4c31b7874fe5dac98d60.bindPopup%28popup_41d50fbfc0444723ab2e4889286db25d%29%0A%20%20%20%20%20%20%20%20%3B%0A%0A%20%20%20%20%20%20%20%20%0A%20%20%20%20%0A%20%20%20%20%0A%20%20%20%20%20%20%20%20%20%20%20%20var%20marker_7e3cc269862249ccb82d70729b61d878%20%3D%20L.marker%28%0A%20%20%20%20%20%20%20%20%20%20%20%20%20%20%20%20%5B6.7430327%2C%207.802355%5D%2C%0A%20%20%20%20%20%20%20%20%20%20%20%20%20%20%20%20%7B%22fillColor%22%3A%20%22red%22%2C%20%22radius%22%3A%206%7D%0A%20%20%20%20%20%20%20%20%20%20%20%20%29.addTo%28map_c13657eb2fa148f2aac85cc16a883752%29%3B%0A%20%20%20%20%20%20%20%20%0A%20%20%20%20%0A%20%20%20%20%20%20%20%20var%20popup_3672925b99b54d479a6430ecf6e6c06f%20%3D%20L.popup%28%7B%22maxWidth%22%3A%20%22100%25%22%7D%29%3B%0A%0A%20%20%20%20%20%20%20%20%0A%20%20%20%20%20%20%20%20%20%20%20%20var%20html_06cd6e33e42c47d498423922d6d0e29d%20%3D%20%24%28%60%3Cdiv%20id%3D%22html_06cd6e33e42c47d498423922d6d0e29d%22%20style%3D%22width%3A%20100.0%25%3B%20height%3A%20100.0%25%3B%22%3EUmuahia%3C/div%3E%60%29%5B0%5D%3B%0A%20%20%20%20%20%20%20%20%20%20%20%20popup_3672925b99b54d479a6430ecf6e6c06f.setContent%28html_06cd6e33e42c47d498423922d6d0e29d%29%3B%0A%20%20%20%20%20%20%20%20%0A%0A%20%20%20%20%20%20%20%20marker_7e3cc269862249ccb82d70729b61d878.bindPopup%28popup_3672925b99b54d479a6430ecf6e6c06f%29%0A%20%20%20%20%20%20%20%20%3B%0A%0A%20%20%20%20%20%20%20%20%0A%20%20%20%20%0A%20%20%20%20%0A%20%20%20%20%20%20%20%20%20%20%20%20var%20marker_8712990cc62040c084a965c93c1217d4%20%3D%20L.marker%28%0A%20%20%20%20%20%20%20%20%20%20%20%20%20%20%20%20%5B4.5480484%2C%208.4963657%5D%2C%0A%20%20%20%20%20%20%20%20%20%20%20%20%20%20%20%20%7B%22fillColor%22%3A%20%22red%22%2C%20%22radius%22%3A%206%7D%0A%20%20%20%20%20%20%20%20%20%20%20%20%29.addTo%28map_c13657eb2fa148f2aac85cc16a883752%29%3B%0A%20%20%20%20%20%20%20%20%0A%20%20%20%20%0A%20%20%20%20%20%20%20%20var%20popup_fd8a07bc1e7b4897b9dba7cabf125c1b%20%3D%20L.popup%28%7B%22maxWidth%22%3A%20%22100%25%22%7D%29%3B%0A%0A%20%20%20%20%20%20%20%20%0A%20%20%20%20%20%20%20%20%20%20%20%20var%20html_5e03bb5cefe84835ad6aaf1c919ad540%20%3D%20%24%28%60%3Cdiv%20id%3D%22html_5e03bb5cefe84835ad6aaf1c919ad540%22%20style%3D%22width%3A%20100.0%25%3B%20height%3A%20100.0%25%3B%22%3EZaria%3C/div%3E%60%29%5B0%5D%3B%0A%20%20%20%20%20%20%20%20%20%20%20%20popup_fd8a07bc1e7b4897b9dba7cabf125c1b.setContent%28html_5e03bb5cefe84835ad6aaf1c919ad540%29%3B%0A%20%20%20%20%20%20%20%20%0A%0A%20%20%20%20%20%20%20%20marker_8712990cc62040c084a965c93c1217d4.bindPopup%28popup_fd8a07bc1e7b4897b9dba7cabf125c1b%29%0A%20%20%20%20%20%20%20%20%3B%0A%0A%20%20%20%20%20%20%20%20%0A%20%20%20%20%0A%20%20%20%20%0A%20%20%20%20%20%20%20%20%20%20%20%20var%20marker_0c1719eab5a84974a35815560bd5ece8%20%3D%20L.marker%28%0A%20%20%20%20%20%20%20%20%20%20%20%20%20%20%20%20%5B6.5475752%2C%209.6187093%5D%2C%0A%20%20%20%20%20%20%20%20%20%20%20%20%20%20%20%20%7B%22fillColor%22%3A%20%22red%22%2C%20%22radius%22%3A%206%7D%0A%20%20%20%20%20%20%20%20%20%20%20%20%29.addTo%28map_c13657eb2fa148f2aac85cc16a883752%29%3B%0A%20%20%20%20%20%20%20%20%0A%20%20%20%20%0A%20%20%20%20%20%20%20%20var%20popup_054ffb91d0e64b01b008bce01950bab9%20%3D%20L.popup%28%7B%22maxWidth%22%3A%20%22100%25%22%7D%29%3B%0A%0A%20%20%20%20%20%20%20%20%0A%20%20%20%20%20%20%20%20%20%20%20%20var%20html_7d3933ba4c024ab787f621626aee620e%20%3D%20%24%28%60%3Cdiv%20id%3D%22html_7d3933ba4c024ab787f621626aee620e%22%20style%3D%22width%3A%20100.0%25%3B%20height%3A%20100.0%25%3B%22%3EAsaba%3C/div%3E%60%29%5B0%5D%3B%0A%20%20%20%20%20%20%20%20%20%20%20%20popup_054ffb91d0e64b01b008bce01950bab9.setContent%28html_7d3933ba4c024ab787f621626aee620e%29%3B%0A%20%20%20%20%20%20%20%20%0A%0A%20%20%20%20%20%20%20%20marker_0c1719eab5a84974a35815560bd5ece8.bindPopup%28popup_054ffb91d0e64b01b008bce01950bab9%29%0A%20%20%20%20%20%20%20%20%3B%0A%0A%20%20%20%20%20%20%20%20%0A%20%20%20%20%0A%20%20%20%20%0A%20%20%20%20%20%20%20%20%20%20%20%20var%20marker_f2d5ca04c9b344afa1132cb20c5838af%20%3D%20L.marker%28%0A%20%20%20%20%20%20%20%20%20%20%20%20%20%20%20%20%5B11.206567%2C%2010.38301%5D%2C%0A%20%20%20%20%20%20%20%20%20%20%20%20%20%20%20%20%7B%22fillColor%22%3A%20%22red%22%2C%20%22radius%22%3A%206%7D%0A%20%20%20%20%20%20%20%20%20%20%20%20%29.addTo%28map_c13657eb2fa148f2aac85cc16a883752%29%3B%0A%20%20%20%20%20%20%20%20%0A%20%20%20%20%0A%20%20%20%20%20%20%20%20var%20popup_dcac05f0369c4075b07137bbe2377d6b%20%3D%20L.popup%28%7B%22maxWidth%22%3A%20%22100%25%22%7D%29%3B%0A%0A%20%20%20%20%20%20%20%20%0A%20%20%20%20%20%20%20%20%20%20%20%20var%20html_ba07d94600e44390af8acc708cccf7a9%20%3D%20%24%28%60%3Cdiv%20id%3D%22html_ba07d94600e44390af8acc708cccf7a9%22%20style%3D%22width%3A%20100.0%25%3B%20height%3A%20100.0%25%3B%22%3EIlorin%3C/div%3E%60%29%5B0%5D%3B%0A%20%20%20%20%20%20%20%20%20%20%20%20popup_dcac05f0369c4075b07137bbe2377d6b.setContent%28html_ba07d94600e44390af8acc708cccf7a9%29%3B%0A%20%20%20%20%20%20%20%20%0A%0A%20%20%20%20%20%20%20%20marker_f2d5ca04c9b344afa1132cb20c5838af.bindPopup%28popup_dcac05f0369c4075b07137bbe2377d6b%29%0A%20%20%20%20%20%20%20%20%3B%0A%0A%20%20%20%20%20%20%20%20%0A%20%20%20%20%0A%20%20%20%20%0A%20%20%20%20%20%20%20%20%20%20%20%20var%20marker_075713a4e44c4b6ca132a39e428af9b5%20%3D%20L.marker%28%0A%20%20%20%20%20%20%20%20%20%20%20%20%20%20%20%20%5B11.0480288%2C%2046.3144754%5D%2C%0A%20%20%20%20%20%20%20%20%20%20%20%20%20%20%20%20%7B%22fillColor%22%3A%20%22red%22%2C%20%22radius%22%3A%206%7D%0A%20%20%20%20%20%20%20%20%20%20%20%20%29.addTo%28map_c13657eb2fa148f2aac85cc16a883752%29%3B%0A%20%20%20%20%20%20%20%20%0A%20%20%20%20%0A%20%20%20%20%20%20%20%20var%20popup_7c6ea63ccb2544fd9f6358eb283a1999%20%3D%20L.popup%28%7B%22maxWidth%22%3A%20%22100%25%22%7D%29%3B%0A%0A%20%20%20%20%20%20%20%20%0A%20%20%20%20%20%20%20%20%20%20%20%20var%20html_cc0fa057eb634d969b1439eb754267ab%20%3D%20%24%28%60%3Cdiv%20id%3D%22html_cc0fa057eb634d969b1439eb754267ab%22%20style%3D%22width%3A%20100.0%25%3B%20height%3A%20100.0%25%3B%22%3EOjodu%3C/div%3E%60%29%5B0%5D%3B%0A%20%20%20%20%20%20%20%20%20%20%20%20popup_7c6ea63ccb2544fd9f6358eb283a1999.setContent%28html_cc0fa057eb634d969b1439eb754267ab%29%3B%0A%20%20%20%20%20%20%20%20%0A%0A%20%20%20%20%20%20%20%20marker_075713a4e44c4b6ca132a39e428af9b5.bindPopup%28popup_7c6ea63ccb2544fd9f6358eb283a1999%29%0A%20%20%20%20%20%20%20%20%3B%0A%0A%20%20%20%20%20%20%20%20%0A%20%20%20%20%0A%3C/script%3E onload=\"this.contentDocument.open();this.contentDocument.write(    decodeURIComponent(this.getAttribute('data-html')));this.contentDocument.close();\" allowfullscreen webkitallowfullscreen mozallowfullscreen></iframe></div></div>"
      ],
      "text/plain": [
       "<folium.folium.Map at 0x7f7170b8e898>"
      ]
     },
     "execution_count": 15,
     "metadata": {},
     "output_type": "execute_result"
    }
   ],
   "source": [
    "# Creating a map for locating NIN locations \n",
    "mainMap = folium.Map([lat, long], titles='Stamen Toner', zoom_start=5) \n",
    "\n",
    "# \n",
    "for index, row in df.iterrows():\n",
    "    folium.Marker([row['longitude'], row['latitude']], \n",
    "                        radius=6, \n",
    "                        popup=row['Head Office'],  \n",
    "                        fill_color=\"red\", \n",
    "                        ).add_to(mainMap)\n",
    "\n",
    "# Showing the locations \n",
    "mainMap"
   ]
  },
  {
   "cell_type": "code",
   "execution_count": 17,
   "metadata": {},
   "outputs": [],
   "source": [
    "df.to_csv(\"ORIGINAL.csv\")\n",
    "df.to_excel(\"ORIGINAL.xls\")"
   ]
  },
  {
   "cell_type": "code",
   "execution_count": null,
   "metadata": {},
   "outputs": [],
   "source": []
  }
 ],
 "metadata": {
  "kernelspec": {
   "display_name": "Python 3",
   "language": "python",
   "name": "python3"
  },
  "language_info": {
   "codemirror_mode": {
    "name": "ipython",
    "version": 3
   },
   "file_extension": ".py",
   "mimetype": "text/x-python",
   "name": "python",
   "nbconvert_exporter": "python",
   "pygments_lexer": "ipython3",
   "version": "3.6.12"
  }
 },
 "nbformat": 4,
 "nbformat_minor": 4
}
